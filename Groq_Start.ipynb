{
 "cells": [
  {
   "cell_type": "code",
   "execution_count": 1,
   "id": "53934ff9-27a1-4b7b-8774-a444cabcbb79",
   "metadata": {},
   "outputs": [
    {
     "name": "stdout",
     "output_type": "stream",
     "text": [
      "It seems like you're referencing a song. \"Bol Chudiyan\" and \"Bol Sanjhana\" are not exact song titles, but I think you might be thinking of the song \"Bol Chudiyan\" from the Bollywood movie \"Bazaar\" (1982) or more likely, \"Bol Chudiyan\" from the movie \"Kabhi Khushi Kabhie Gham\" (2001) which has a line \"Bol chudiyan, bol kangna\". \n",
      "\n",
      "However, without more context, it's hard to pinpoint the exact song you're thinking of. If you can provide more information or clarify which song you're looking for, I'd be happy to try and help you further.\n"
     ]
    }
   ],
   "source": [
    "from langchain_groq import ChatGroq\n",
    "\n",
    "llm = ChatGroq(\n",
    "    model=\"llama-3.3-70b-versatile\",\n",
    "    temperature=0,\n",
    "    groq_api_key=\"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\"\n",
    ")\n",
    "\n",
    "response = llm.invoke(\"Bol chudiyya ... bol sanjana ...\")\n",
    "\n",
    "print(response.content)"
   ]
  },
  {
   "cell_type": "code",
   "execution_count": null,
   "id": "355ed80f-0169-4738-87cb-347cd4f88304",
   "metadata": {},
   "outputs": [],
   "source": []
  }
 ],
 "metadata": {
  "kernelspec": {
   "display_name": "Python 3 (ipykernel)",
   "language": "python",
   "name": "python3"
  },
  "language_info": {
   "codemirror_mode": {
    "name": "ipython",
    "version": 3
   },
   "file_extension": ".py",
   "mimetype": "text/x-python",
   "name": "python",
   "nbconvert_exporter": "python",
   "pygments_lexer": "ipython3",
   "version": "3.13.1"
  }
 },
 "nbformat": 4,
 "nbformat_minor": 5
}
